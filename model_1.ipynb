{
 "cells": [
  {
   "cell_type": "code",
   "execution_count": 84,
   "metadata": {},
   "outputs": [],
   "source": [
    "#importing modules\n",
    "import numpy as np\n",
    "import pandas as pd\n",
    "import matplotlib.pyplot as plt\n",
    "import seaborn as sns\n",
    "import torch\n",
    "import torch.nn.functional as F\n",
    "import torchvision\n",
    "from torchvision import transforms\n",
    "from torchvision import datasets\n",
    "from torch.utils.data import Dataset, DataLoader\n",
    "import os\n",
    "from torchvision import models\n",
    "from torch import nn\n",
    "from torch.nn import CrossEntropyLoss\n",
    "from torch.nn import MSELoss\n",
    "from torch.optim import Adam\n",
    "from torchvision.models import resnet50\n",
    "import pickle \n",
    "import time\n",
    "import cv2\n",
    "from tqdm import tqdm\n",
    "from sklearn.preprocessing import LabelEncoder\n",
    "import imutils\n",
    "from PIL import Image\n",
    "from base_model import CNN\n",
    "\n",
    "%matplotlib inline"
   ]
  },
  {
   "cell_type": "code",
   "execution_count": 85,
   "metadata": {},
   "outputs": [
    {
     "data": {
      "text/plain": [
       "<torch._C.Generator at 0x142b656d0>"
      ]
     },
     "execution_count": 85,
     "metadata": {},
     "output_type": "execute_result"
    }
   ],
   "source": [
    "#setting seed for reproducibility\n",
    "torch.manual_seed(42)"
   ]
  },
  {
   "cell_type": "code",
   "execution_count": 154,
   "metadata": {},
   "outputs": [],
   "source": [
    "# Define the base path to the input dataset and specify the subfolders for train, test, and valid\n",
    "BASE_PATH = \"Rock Paper Scissors SXSW.v12i.yolov8\"\n",
    "TRAIN_PATH = os.path.sep.join([BASE_PATH, \"train\"])\n",
    "TEST_PATH = os.path.sep.join([BASE_PATH, \"test\"])\n",
    "VALID_PATH = os.path.sep.join([BASE_PATH, \"valid\"])\n",
    "\n",
    "# Define the paths to the subfolders for images and labels within each split\n",
    "TRAIN_IMAGES_PATH = os.path.sep.join([TRAIN_PATH, \"images\"])\n",
    "TRAIN_LABELS_PATH = os.path.sep.join([TRAIN_PATH, \"labels\"])\n",
    "TEST_IMAGES_PATH = os.path.sep.join([TEST_PATH, \"images\"])\n",
    "TEST_LABELS_PATH = os.path.sep.join([TEST_PATH, \"labels\"])\n",
    "VALID_IMAGES_PATH = os.path.sep.join([VALID_PATH, \"images\"])\n",
    "VALID_LABELS_PATH = os.path.sep.join([VALID_PATH, \"labels\"])\n",
    "\n",
    "# Define the path to the base output directory\n",
    "BASE_OUTPUT = \"output\"\n",
    "\n",
    "# Define the paths for model, label encoder, plots output, and testing image paths\n",
    "MODEL_PATH = os.path.sep.join([BASE_OUTPUT, \"detector.pth\"])\n",
    "LE_PATH = os.path.sep.join([BASE_OUTPUT, \"le.pickle\"])\n",
    "PLOTS_PATH = os.path.sep.join([BASE_OUTPUT, \"plots\"])\n",
    "TEST_PATHS = os.path.sep.join([BASE_OUTPUT, \"test_paths.txt\"])\n",
    "\n",
    "# Now you can use these paths in your code for data loading and saving"
   ]
  },
  {
   "cell_type": "code",
   "execution_count": 155,
   "metadata": {},
   "outputs": [
    {
     "name": "stdout",
     "output_type": "stream",
     "text": [
      "Mean: [0.490110532131934, 0.446009729818045, 0.43031791397747016]\n",
      "Standard Deviation: [0.21694581319104497, 0.20764065161771203, 0.20739287063608627]\n"
     ]
    }
   ],
   "source": [
    "#Finding the mean and std of the dataset\n",
    "\n",
    "#Define the directory where your images are located\n",
    "image_dir = \"Rock Paper Scissors SXSW.v12i.yolov8/valid/images\"\n",
    "\n",
    "# Define a function to load and preprocess images\n",
    "def load_and_preprocess_image(image_path):\n",
    "    image = Image.open(image_path)\n",
    "    # Resize, convert to NumPy array, and normalize\n",
    "    image = image.resize((224, 224))  # Adjust size as needed\n",
    "    image = np.array(image) / 255.0  # Normalize to [0, 1]\n",
    "    return image\n",
    "\n",
    "# Initialize lists to store channel-wise means and std deviations\n",
    "channel_means = [0.0, 0.0, 0.0]\n",
    "channel_stds = [0.0, 0.0, 0.0]\n",
    "\n",
    "# Iterate through the images and calculate means and stds\n",
    "for filename in os.listdir(image_dir):\n",
    "    if filename.endswith(\".jpg\"):\n",
    "        image_path = os.path.join(image_dir, filename)\n",
    "        image = load_and_preprocess_image(image_path)\n",
    "        for channel in range(3):  # Iterate through RGB channels\n",
    "            channel_means[channel] += np.mean(image[:, :, channel])\n",
    "            channel_stds[channel] += np.std(image[:, :, channel])\n",
    "\n",
    "# Calculate the overall means and stds\n",
    "num_images = len(os.listdir(image_dir))\n",
    "overall_means = [mean / num_images for mean in channel_means]\n",
    "overall_stds = [std / num_images for std in channel_stds]\n",
    "\n",
    "print(\"Mean:\", overall_means)\n",
    "print(\"Standard Deviation:\", overall_stds)\n"
   ]
  },
  {
   "cell_type": "code",
   "execution_count": 157,
   "metadata": {},
   "outputs": [],
   "source": [
    "# determine the current device and based on that set the pin memory\n",
    "# flag\n",
    "DEVICE = \"cuda\" if torch.cuda.is_available() else \"cpu\"\n",
    "PIN_MEMORY = True if DEVICE == \"cuda\" else False\n",
    "\n",
    "MEAN = overall_means\n",
    "STD = overall_stds\n",
    "# initialize our initial learning rate, number of epochs to train\n",
    "# for, and the batch size\n",
    "INIT_LR = 1e-4\n",
    "NUM_EPOCHS = 10\n",
    "BATCH_SIZE = 16\n",
    "# specify the loss weights\n",
    "LABELS = 1.0\n",
    "BBOX = 1.0"
   ]
  },
  {
   "cell_type": "code",
   "execution_count": 158,
   "metadata": {},
   "outputs": [],
   "source": [
    "class CustomTensorDataset(Dataset):\n",
    "\t# initialize the constructor\n",
    "\tdef __init__(self, tensors, transforms=None):\n",
    "\t\tself.tensors = tensors\n",
    "\t\tself.transforms = transforms\n",
    "\t\n",
    "\tdef __len__(self):\n",
    "\t\t# return the size of the dataset\n",
    "\t\treturn self.tensors[0].size(0)\n",
    "\n",
    "\tdef __getitem__(self, index):\n",
    "\t\t# grab the image, label, and its bounding box coordinates\n",
    "\t\timage = self.tensors[0][index]\n",
    "\t\tlabel = self.tensors[1][index]\n",
    "\t\tbbox = self.tensors[2][index]\n",
    "\t\t# transpose the image such that its channel dimension becomes\n",
    "\t\t# the leading one\n",
    "\t\timage = image.permute(2, 0, 1)\n",
    "\t\t# check to see if we have any image transformations to apply\n",
    "\t\t# and if so, apply them\n",
    "\t\tif self.transforms:\n",
    "\t\t\timage = self.transforms(image)\n",
    "\t\t# return a tuple of the images, labels, and bounding\n",
    "\t\t# box coordinates\n",
    "\t\treturn (image, label, bbox)\n",
    "\t"
   ]
  },
  {
   "cell_type": "code",
   "execution_count": 159,
   "metadata": {},
   "outputs": [],
   "source": [
    "#model\n",
    "class ObjectDetector(nn.Module):\n",
    "\tdef __init__(self, baseModel, numClasses):\n",
    "\t\tsuper(ObjectDetector, self).__init__()\n",
    "\t\t# initialize the base model and the number of classes\n",
    "\t\tself.baseModel = baseModel\n",
    "\t\tself.numClasses = numClasses\n",
    "\t\t#self.identity = nn.Identity()\n",
    "    # build the regressor head for outputting the bounding box\n",
    "\t\t# coordinates\n",
    "\t\tself.regressor = nn.Sequential(\n",
    "\t\t\tnn.Linear(1024, 128),\n",
    "\t\t\tnn.ReLU(),\n",
    "\t\t\tnn.Linear(128, 64),\n",
    "\t\t\tnn.ReLU(),\n",
    "\t\t\tnn.Linear(64, 32),\n",
    "\t\t\tnn.ReLU(),\n",
    "\t\t\tnn.Linear(32, 4),\n",
    "\t\t\tnn.Sigmoid()\n",
    "\t\t)\n",
    "\t\tself.classifier = nn.Sequential(\n",
    "\t\t\tnn.Linear(1024, 512),\n",
    "\t\t\tnn.ReLU(),\n",
    "\t\t\tnn.Dropout(),\n",
    "\t\t\tnn.Linear(512, 512),\n",
    "\t\t\tnn.ReLU(),\n",
    "\t\t\tnn.Dropout(),\n",
    "\t\t\tnn.Linear(512, self.numClasses),\n",
    "\t\t\tnn.Softmax(dim=1)\n",
    "\t\t)\n",
    "\t\tself.baseModel.fc_model[-1] = nn.Identity() # helps us extract the features from the base model without the last layer\n",
    "\n",
    "\tdef forward(self, x):\n",
    "      # pass the inputs through the base model and then obtain\n",
    "      # predictions from two different branches of the network\n",
    "\t\t\tfeatures = self.baseModel(x)\n",
    "\t\t\tbboxes = self.regressor(features)\n",
    "\t\t\tclassLogits = self.classifier(features)\n",
    "\t\t\t# return the outputs as a tuple\n",
    "\t\t\treturn (bboxes, classLogits)"
   ]
  },
  {
   "cell_type": "code",
   "execution_count": 160,
   "metadata": {},
   "outputs": [
    {
     "name": "stdout",
     "output_type": "stream",
     "text": [
      "[INFO] loading dataset...\n"
     ]
    }
   ],
   "source": [
    "# initialize the list of data (images), class labels, target bounding box coordinates, and image paths for training\n",
    "\n",
    "print(\"[INFO] loading dataset...\")\n",
    "train_data = []\n",
    "train_labels = []\n",
    "train_bboxes = []\n",
    "train_imagePaths = []\n",
    "\n",
    "for txtFilename in os.listdir(TRAIN_LABELS_PATH):\n",
    "    # Combine the paths to the label and image files\n",
    "    labelFilePath = os.path.join(TRAIN_LABELS_PATH, txtFilename)\n",
    "    imageFilename, _ = os.path.splitext(txtFilename)\n",
    "    imageFilePath = os.path.join(TRAIN_IMAGES_PATH, f\"{imageFilename}.jpg\")\n",
    "\n",
    "    # Load the contents of the current TXT annotations file\n",
    "    rows = open(labelFilePath).read().strip().split(\"\\n\")\n",
    "\n",
    "    # Loop over the rows in the TXT file\n",
    "    if len(rows) == 1:\n",
    "        # Use the image file path itself to represent empty annotations\n",
    "\n",
    "        empty_label = 3\n",
    "        image = cv2.imread(imageFilePath)\n",
    "        image = cv2.cvtColor(image, cv2.COLOR_BGR2RGB)\n",
    "        image = cv2.resize(image, (224, 224))\n",
    "        train_data.append(image)\n",
    "        train_labels.append(empty_label)\n",
    "        train_bboxes.append((0.0, 0.0, 0.0, 0.0))  # Use (0, 0, 0, 0) as a placeholder for empty bounding boxes\n",
    "        train_imagePaths.append(imageFilePath)\n",
    "    else:\n",
    "        # Loop over the rows in the TXT file for non-empty annotations\n",
    "        for row in rows:\n",
    "            # Split the row into the bounding box coordinates and class label\n",
    "            row = row.split(\" \")\n",
    "            (label, startX, startY, width, height) = row\n",
    "\n",
    "            image = cv2.imread(imageFilePath)\n",
    "            (h, w) = image.shape[:2]\n",
    "            startX = float(startX) / w\n",
    "            startY = float(startY) / h\n",
    "            width = float(width) / w\n",
    "            height = float(height) / h\n",
    "            image = cv2.cvtColor(image, cv2.COLOR_BGR2RGB)\n",
    "            image = cv2.resize(image, (224, 224))\n",
    "            train_data.append(image)\n",
    "            train_labels.append(label)\n",
    "            train_bboxes.append((startX, startY, width, height))\n",
    "            train_imagePaths.append(imageFilePath)"
   ]
  },
  {
   "cell_type": "code",
   "execution_count": 161,
   "metadata": {},
   "outputs": [
    {
     "name": "stdout",
     "output_type": "stream",
     "text": [
      "[INFO] loading dataset...\n"
     ]
    }
   ],
   "source": [
    "# initialize the list of data (images), class labels, target bounding box coordinates, and image paths for validation\n",
    "\n",
    "print(\"[INFO] loading dataset...\")\n",
    "valid_data = []\n",
    "valid_labels = []\n",
    "valid_bboxes = []\n",
    "valid_imagePaths = []\n",
    "\n",
    "for txtFilename in os.listdir(VALID_LABELS_PATH):\n",
    "    # Combine the paths to the label and image files\n",
    "    labelFilePath = os.path.join(VALID_LABELS_PATH, txtFilename)\n",
    "    imageFilename, _ = os.path.splitext(txtFilename)\n",
    "    imageFilePath = os.path.join(VALID_IMAGES_PATH, f\"{imageFilename}.jpg\")\n",
    "\n",
    "    # Load the contents of the current TXT annotations file\n",
    "    rows = open(labelFilePath).read().strip().split(\"\\n\")\n",
    "\n",
    "    # Loop over the rows in the TXT file\n",
    "    if len(rows) == 1:\n",
    "       # Use the image file path itself to represent empty annotations\n",
    "        empty_label = 3  # Define a special label for empty annotations\n",
    "        image = cv2.imread(imageFilePath)\n",
    "        image = cv2.cvtColor(image, cv2.COLOR_BGR2RGB)\n",
    "        image = cv2.resize(image, (224, 224))\n",
    "        valid_data.append(image)\n",
    "        valid_labels.append(empty_label)\n",
    "        valid_bboxes.append((0.0, 0.0, 0.0, 0.0))  # Use (0, 0, 0, 0) as a placeholder for empty bounding boxes\n",
    "        valid_imagePaths.append(imageFilePath)\n",
    "    else:\n",
    "        # Loop over the rows in the TXT file for non-empty annotations\n",
    "        for row in rows:\n",
    "            # Split the row into the bounding box coordinates and class label\n",
    "            row = row.split(\" \")\n",
    "            (label, startX, startY, width, height) = row\n",
    "\n",
    "            image = cv2.imread(imageFilePath)\n",
    "            (h, w) = image.shape[:2]\n",
    "            startX = float(startX) / w\n",
    "            startY = float(startY) / h\n",
    "            width = float(width) / w\n",
    "            height = float(height) / h\n",
    "            image = cv2.cvtColor(image, cv2.COLOR_BGR2RGB)\n",
    "            image = cv2.resize(image, (224, 224))\n",
    "            valid_data.append(image)\n",
    "            valid_labels.append(label)\n",
    "            valid_bboxes.append((startX, startY, width, height))\n",
    "            valid_imagePaths.append(imageFilePath)"
   ]
  },
  {
   "cell_type": "code",
   "execution_count": 162,
   "metadata": {},
   "outputs": [
    {
     "name": "stdout",
     "output_type": "stream",
     "text": [
      "[INFO] loading dataset...\n"
     ]
    }
   ],
   "source": [
    "# initialize the list of data (images), class labels, target bounding box coordinates, and image paths for testing\n",
    "\n",
    "print(\"[INFO] loading dataset...\")\n",
    "test_data = []\n",
    "test_labels = []\n",
    "test_bboxes = []\n",
    "test_imagePaths = []\n",
    "\n",
    "for txtFilename in os.listdir(TEST_LABELS_PATH):\n",
    "    # Combine the paths to the label and image files\n",
    "    labelFilePath = os.path.join(TEST_LABELS_PATH, txtFilename)\n",
    "    imageFilename, _ = os.path.splitext(txtFilename)\n",
    "    imageFilePath = os.path.join(TEST_IMAGES_PATH, f\"{imageFilename}.jpg\")\n",
    "\n",
    "    # Load the contents of the current TXT annotations file\n",
    "    rows = open(labelFilePath).read().strip().split(\"\\n\")\n",
    "\n",
    "    # Loop over the rows in the TXT file\n",
    "    if len(rows) == 1:\n",
    "       # Use the image file path itself to represent empty annotations\n",
    "        empty_label = 3  # Define a special label for empty annotations\n",
    "        image = cv2.imread(imageFilePath)\n",
    "        image = cv2.cvtColor(image, cv2.COLOR_BGR2RGB)\n",
    "        image = cv2.resize(image, (224, 224))\n",
    "        test_data.append(image)\n",
    "        test_labels.append(empty_label)\n",
    "        test_bboxes.append((0.0, 0.0, 0.0, 0.0))  # Use (0, 0, 0, 0) as a placeholder for empty bounding boxes\n",
    "        test_imagePaths.append(imageFilePath)\n",
    "    else:\n",
    "        # Loop over the rows in the TXT file for non-empty annotations\n",
    "        for row in rows:\n",
    "            # Split the row into the bounding box coordinates and class label\n",
    "            row = row.split(\" \")\n",
    "            (label, startX, startY, width, height) = row\n",
    "\n",
    "            image = cv2.imread(imageFilePath)\n",
    "            (h, w) = image.shape[:2]\n",
    "            startX = float(startX) / w\n",
    "            startY = float(startY) / h\n",
    "            width = float(width) / w\n",
    "            height = float(height) / h\n",
    "            image = cv2.cvtColor(image, cv2.COLOR_BGR2RGB)\n",
    "            image = cv2.resize(image, (224, 224))\n",
    "            test_data.append(image)\n",
    "            test_labels.append(label)\n",
    "            test_bboxes.append((startX, startY, width, height))\n",
    "            test_imagePaths.append(imageFilePath)"
   ]
  },
  {
   "cell_type": "code",
   "execution_count": 163,
   "metadata": {},
   "outputs": [],
   "source": [
    "# encoding training labels for classification\n",
    "le = LabelEncoder()\n",
    "labels = le.fit_transform(train_labels)"
   ]
  },
  {
   "cell_type": "code",
   "execution_count": 164,
   "metadata": {},
   "outputs": [],
   "source": [
    "#convert the data, class labels, bounding boxes, and image paths to\n",
    "# NumPy arrays\n",
    "train_data = np.array(train_data, dtype=\"float32\")\n",
    "train_labels = np.array(train_labels)\n",
    "train_bboxes = np.array(train_bboxes, dtype=\"float32\")\n",
    "train_imagePaths = np.array(train_imagePaths)\n",
    "\n",
    "valid_data = np.array(valid_data, dtype=\"float32\")\n",
    "valid_labels = np.array(valid_labels)\n",
    "valid_bboxes = np.array(valid_bboxes, dtype=\"float32\")\n",
    "valid_imagePaths = np.array(valid_imagePaths)\n",
    "\n",
    "test_data = np.array(test_data, dtype=\"float32\")\n",
    "test_labels = np.array(test_labels)\n",
    "test_bboxes = np.array(test_bboxes, dtype=\"float32\")\n",
    "test_imagePaths = np.array(test_imagePaths)"
   ]
  },
  {
   "cell_type": "code",
   "execution_count": 165,
   "metadata": {},
   "outputs": [],
   "source": [
    "# converting from string to int as pytorch doesn't accept string labels\n",
    "test_labels = test_labels.astype(np.int64)\n",
    "train_labels = train_labels.astype(np.int64)\n",
    "valid_labels = valid_labels.astype(np.int64)"
   ]
  },
  {
   "cell_type": "code",
   "execution_count": 166,
   "metadata": {},
   "outputs": [],
   "source": [
    "# Convert NumPy arrays to PyTorch tensors\n",
    "train_data = torch.tensor(train_data, dtype=torch.float32)\n",
    "train_labels = torch.tensor(train_labels, dtype=torch.int64)\n",
    "train_bboxes = torch.tensor(train_bboxes, dtype=torch.float32)\n",
    "\n",
    "valid_data = torch.tensor(valid_data, dtype=torch.float32)\n",
    "valid_labels = torch.tensor(valid_labels, dtype=torch.int64)\n",
    "valid_bboxes = torch.tensor(valid_bboxes, dtype=torch.float32)\n",
    "\n",
    "test_data = torch.tensor(test_data, dtype=torch.float32)\n",
    "test_labels = torch.tensor(test_labels, dtype=torch.int64)\n",
    "test_bboxes = torch.tensor(test_bboxes, dtype=torch.float32)\n"
   ]
  },
  {
   "cell_type": "code",
   "execution_count": 167,
   "metadata": {},
   "outputs": [],
   "source": [
    "from torchvision import transforms\n",
    "\n",
    "# define normalization transforms\n",
    "transforms = transforms.Compose([\n",
    "\ttransforms.ToPILImage(),\n",
    "\ttransforms.ToTensor(),\n",
    "\ttransforms.Normalize(mean=MEAN, std=STD)\n",
    "])"
   ]
  },
  {
   "cell_type": "code",
   "execution_count": 168,
   "metadata": {},
   "outputs": [
    {
     "name": "stdout",
     "output_type": "stream",
     "text": [
      "[INFO] total training samples: 12090...\n",
      "[INFO] total test samples: 351...\n"
     ]
    }
   ],
   "source": [
    "# convert NumPy arrays to PyTorch datasets\n",
    "trainDS = CustomTensorDataset((train_data, train_labels, train_bboxes),\n",
    "\ttransforms=transforms)\n",
    "validDS = CustomTensorDataset((valid_data, valid_labels, valid_bboxes), transforms=transforms)\n",
    "testDS = CustomTensorDataset((test_data, test_labels, test_bboxes),\n",
    "\ttransforms=transforms)\n",
    "print(\"[INFO] total training samples: {}...\".format(len(trainDS)))\n",
    "print(\"[INFO] total test samples: {}...\".format(len(testDS)))"
   ]
  },
  {
   "cell_type": "code",
   "execution_count": 169,
   "metadata": {},
   "outputs": [],
   "source": [
    "#creating dataloaders\n",
    "trainSteps = len(trainDS) // BATCH_SIZE\n",
    "valSteps = len(testDS) // BATCH_SIZE\n",
    "\n",
    "if __name__ == '__main__':\n",
    "\t# create data loaders\n",
    "\ttrainLoader = DataLoader(trainDS, batch_size=BATCH_SIZE,\n",
    "\t\tshuffle=True, num_workers=0, pin_memory=PIN_MEMORY, drop_last=True)\n",
    "\tvalidLoader = DataLoader(validDS, batch_size=BATCH_SIZE, num_workers=0, pin_memory=PIN_MEMORY)\n",
    "\ttestLoader = DataLoader(testDS, batch_size=BATCH_SIZE,\n",
    "\t\tnum_workers=0, pin_memory=PIN_MEMORY)"
   ]
  },
  {
   "cell_type": "code",
   "execution_count": 170,
   "metadata": {},
   "outputs": [
    {
     "name": "stdout",
     "output_type": "stream",
     "text": [
      "[INFO] saving testing image paths...\n"
     ]
    }
   ],
   "source": [
    "# write the testing image paths to disk so that we can use then\n",
    "# when evaluating/testing our object detector\n",
    "print(\"[INFO] saving testing image paths...\")\n",
    "f = open(TEST_PATHS, \"w\")\n",
    "f.write(\"\\n\".join(test_imagePaths))\n",
    "f.close()\n",
    "\n",
    "baseModel = CNN()\n",
    "\n",
    "for param in baseModel.parameters():\n",
    "    param.requires_grad = False\n"
   ]
  },
  {
   "cell_type": "code",
   "execution_count": 171,
   "metadata": {},
   "outputs": [
    {
     "name": "stdout",
     "output_type": "stream",
     "text": [
      "ObjectDetector(\n",
      "  (baseModel): CNN(\n",
      "    (cnn_model): Sequential(\n",
      "      (0): Conv2d(3, 16, kernel_size=(3, 3), stride=(2, 2))\n",
      "      (1): ReLU()\n",
      "      (2): BatchNorm2d(16, eps=1e-05, momentum=0.1, affine=True, track_running_stats=True)\n",
      "      (3): MaxPool2d(kernel_size=2, stride=2, padding=0, dilation=1, ceil_mode=False)\n",
      "      (4): Conv2d(16, 32, kernel_size=(3, 3), stride=(1, 1))\n",
      "      (5): ReLU()\n",
      "      (6): Conv2d(32, 128, kernel_size=(3, 3), stride=(1, 1))\n",
      "      (7): ReLU()\n",
      "      (8): BatchNorm2d(128, eps=1e-05, momentum=0.1, affine=True, track_running_stats=True)\n",
      "      (9): MaxPool2d(kernel_size=2, stride=2, padding=0, dilation=1, ceil_mode=False)\n",
      "      (10): Conv2d(128, 256, kernel_size=(3, 3), stride=(1, 1))\n",
      "      (11): ReLU()\n",
      "      (12): Conv2d(256, 256, kernel_size=(3, 3), stride=(1, 1))\n",
      "      (13): ReLU()\n",
      "      (14): AvgPool2d(kernel_size=2, stride=2, padding=0)\n",
      "    )\n",
      "    (fc_model): Sequential(\n",
      "      (0): Dropout(p=0.5, inplace=False)\n",
      "      (1): Linear(in_features=25600, out_features=1024, bias=True)\n",
      "      (2): ReLU()\n",
      "      (3): Linear(in_features=1024, out_features=1024, bias=True)\n",
      "      (4): ReLU()\n",
      "      (5): Identity()\n",
      "    )\n",
      "  )\n",
      "  (regressor): Sequential(\n",
      "    (0): Linear(in_features=1024, out_features=128, bias=True)\n",
      "    (1): ReLU()\n",
      "    (2): Linear(in_features=128, out_features=64, bias=True)\n",
      "    (3): ReLU()\n",
      "    (4): Linear(in_features=64, out_features=32, bias=True)\n",
      "    (5): ReLU()\n",
      "    (6): Linear(in_features=32, out_features=4, bias=True)\n",
      "    (7): Sigmoid()\n",
      "  )\n",
      "  (classifier): Sequential(\n",
      "    (0): Linear(in_features=1024, out_features=512, bias=True)\n",
      "    (1): ReLU()\n",
      "    (2): Dropout(p=0.5, inplace=False)\n",
      "    (3): Linear(in_features=512, out_features=512, bias=True)\n",
      "    (4): ReLU()\n",
      "    (5): Dropout(p=0.5, inplace=False)\n",
      "    (6): Linear(in_features=512, out_features=4, bias=True)\n",
      "    (7): Softmax(dim=1)\n",
      "  )\n",
      ")\n"
     ]
    }
   ],
   "source": [
    "# create our custom object detector model and flash it to the current\n",
    "# device\n",
    "\n",
    "objectDetector = ObjectDetector(baseModel, 4)\n",
    "objectDetector = objectDetector.to(DEVICE)\n",
    "objectDetector.load_state_dict(torch.load('model_weights.pth'))\n",
    "\n",
    "# define our loss functions\n",
    "classLossFunc = CrossEntropyLoss()\n",
    "bboxLossFunc = MSELoss()\n",
    "# initialize the optimizer, compile the model, and show the model\n",
    "# summary\n",
    "opt = Adam(objectDetector.parameters(), lr=INIT_LR)\n",
    "print(objectDetector)\n",
    "# initialize a dictionary to store training history\n",
    "H = {\"total_train_loss\": [], \"total_val_loss\": [], \"train_class_acc\": [],\n",
    "\t \"val_class_acc\": []}"
   ]
  },
  {
   "cell_type": "code",
   "execution_count": 172,
   "metadata": {},
   "outputs": [
    {
     "name": "stdout",
     "output_type": "stream",
     "text": [
      "[INFO] training the network...\n"
     ]
    },
    {
     "name": "stderr",
     "output_type": "stream",
     "text": [
      " 10%|█         | 1/10 [02:22<21:24, 142.77s/it]"
     ]
    },
    {
     "name": "stdout",
     "output_type": "stream",
     "text": [
      "[INFO] EPOCH: 1/10\n",
      "Train loss: 1.093805, Train accuracy: 0.8131\n",
      "Val loss: 0.911418, Val accuracy: 0.8746\n"
     ]
    },
    {
     "name": "stderr",
     "output_type": "stream",
     "text": [
      " 20%|██        | 2/10 [04:18<16:56, 127.07s/it]"
     ]
    },
    {
     "name": "stdout",
     "output_type": "stream",
     "text": [
      "[INFO] EPOCH: 2/10\n",
      "Train loss: 0.930402, Train accuracy: 0.8129\n",
      "Val loss: 0.910529, Val accuracy: 0.8746\n"
     ]
    },
    {
     "name": "stderr",
     "output_type": "stream",
     "text": [
      " 30%|███       | 3/10 [06:22<14:37, 125.33s/it]"
     ]
    },
    {
     "name": "stdout",
     "output_type": "stream",
     "text": [
      "[INFO] EPOCH: 3/10\n",
      "Train loss: 0.930313, Train accuracy: 0.8127\n",
      "Val loss: 0.910460, Val accuracy: 0.8746\n"
     ]
    },
    {
     "name": "stderr",
     "output_type": "stream",
     "text": [
      " 40%|████      | 4/10 [08:24<12:25, 124.21s/it]"
     ]
    },
    {
     "name": "stdout",
     "output_type": "stream",
     "text": [
      "[INFO] EPOCH: 4/10\n",
      "Train loss: 0.930021, Train accuracy: 0.8130\n",
      "Val loss: 0.910443, Val accuracy: 0.8746\n"
     ]
    },
    {
     "name": "stderr",
     "output_type": "stream",
     "text": [
      " 50%|█████     | 5/10 [10:31<10:25, 125.01s/it]"
     ]
    },
    {
     "name": "stdout",
     "output_type": "stream",
     "text": [
      "[INFO] EPOCH: 5/10\n",
      "Train loss: 0.930263, Train accuracy: 0.8127\n",
      "Val loss: 0.910437, Val accuracy: 0.8746\n"
     ]
    },
    {
     "name": "stderr",
     "output_type": "stream",
     "text": [
      " 60%|██████    | 6/10 [12:34<08:17, 124.33s/it]"
     ]
    },
    {
     "name": "stdout",
     "output_type": "stream",
     "text": [
      "[INFO] EPOCH: 6/10\n",
      "Train loss: 0.930094, Train accuracy: 0.8129\n",
      "Val loss: 0.910434, Val accuracy: 0.8746\n"
     ]
    },
    {
     "name": "stderr",
     "output_type": "stream",
     "text": [
      " 70%|███████   | 7/10 [15:07<06:41, 133.79s/it]"
     ]
    },
    {
     "name": "stdout",
     "output_type": "stream",
     "text": [
      "[INFO] EPOCH: 7/10\n",
      "Train loss: 0.930176, Train accuracy: 0.8128\n",
      "Val loss: 0.910432, Val accuracy: 0.8746\n"
     ]
    },
    {
     "name": "stderr",
     "output_type": "stream",
     "text": [
      " 80%|████████  | 8/10 [17:49<04:45, 142.77s/it]"
     ]
    },
    {
     "name": "stdout",
     "output_type": "stream",
     "text": [
      "[INFO] EPOCH: 8/10\n",
      "Train loss: 0.930176, Train accuracy: 0.8128\n",
      "Val loss: 0.910432, Val accuracy: 0.8746\n"
     ]
    },
    {
     "name": "stderr",
     "output_type": "stream",
     "text": [
      " 90%|█████████ | 9/10 [20:03<02:20, 140.19s/it]"
     ]
    },
    {
     "name": "stdout",
     "output_type": "stream",
     "text": [
      "[INFO] EPOCH: 9/10\n",
      "Train loss: 0.930010, Train accuracy: 0.8130\n",
      "Val loss: 0.910431, Val accuracy: 0.8746\n"
     ]
    },
    {
     "name": "stderr",
     "output_type": "stream",
     "text": [
      "100%|██████████| 10/10 [22:04<00:00, 132.47s/it]"
     ]
    },
    {
     "name": "stdout",
     "output_type": "stream",
     "text": [
      "[INFO] EPOCH: 10/10\n",
      "Train loss: 0.930176, Train accuracy: 0.8128\n",
      "Val loss: 0.910431, Val accuracy: 0.8746\n",
      "[INFO] total time taken to train the model: 1324.75s\n"
     ]
    },
    {
     "name": "stderr",
     "output_type": "stream",
     "text": [
      "\n"
     ]
    }
   ],
   "source": [
    "# loop over epochs\n",
    "print(\"[INFO] training the network...\")\n",
    "startTime = time.time()\n",
    "for e in tqdm(range(NUM_EPOCHS)):\n",
    "\t# set the model in training mode\n",
    "\tobjectDetector.train()\n",
    "\t# initialize the total training and validation loss\n",
    "\ttotalTrainLoss = 0\n",
    "\ttotalValLoss = 0\n",
    "\t# initialize the number of correct predictions in the training\n",
    "\t# and validation step\n",
    "\ttrainCorrect = 0\n",
    "\tvalCorrect = 0\n",
    "\n",
    "\t# loop over the training set\n",
    "\tfor (images, labels, bboxes) in trainLoader:\n",
    "\t\t# send the input to the device\n",
    "\t\t(images, labels, bboxes) = (images.to(DEVICE),\n",
    "\t\t\tlabels.to(DEVICE), bboxes.to(DEVICE))\n",
    "\t\t# perform a forward pass and calculate the training loss\n",
    "\t\tpredictions = objectDetector(images)\n",
    "\t\tbboxLoss = bboxLossFunc(predictions[0], bboxes)\n",
    "\t\tclassLoss = classLossFunc(predictions[1], labels)\n",
    "\t\ttotalLoss = (BBOX * bboxLoss) + (LABELS * classLoss)\n",
    "\t\t# zero out the gradients, perform the backpropagation step,\n",
    "\t\t# and update the weights\n",
    "\t\topt.zero_grad()\n",
    "\t\ttotalLoss.backward()\n",
    "\t\topt.step()\n",
    "\t\t# add the loss to the total training loss so far and\n",
    "\t\t# calculate the number of correct predictions\n",
    "\t\ttotalTrainLoss += totalLoss\n",
    "\t\ttrainCorrect += (predictions[1].argmax(1) == labels).type(\n",
    "\t\t\ttorch.float).sum().item()\n",
    "\t\t\n",
    "\t# switch off autograd\n",
    "\twith torch.no_grad():\n",
    "\t\t# set the model in evaluation mode\n",
    "\t\tobjectDetector.eval()\n",
    "\t\t# loop over the validation set\n",
    "\t\tfor (images, labels, bboxes) in testLoader:\n",
    "\t\t\t# send the input to the device\n",
    "\t\t\t(images, labels, bboxes) = (images.to(DEVICE),\n",
    "\t\t\t\tlabels.to(DEVICE), bboxes.to(DEVICE))\n",
    "\t\t\t# make the predictions and calculate the validation loss\n",
    "\t\t\tpredictions = objectDetector(images)\n",
    "\t\t\tbboxLoss = bboxLossFunc(predictions[0], bboxes)\n",
    "\t\t\tclassLoss = classLossFunc(predictions[1], labels)\n",
    "\t\t\ttotalLoss = (BBOX * bboxLoss) + \\\n",
    "\t\t\t\t(LABELS * classLoss)\n",
    "\t\t\ttotalValLoss += totalLoss\n",
    "\t\t\t# calculate the number of correct predictions\n",
    "\t\t\tvalCorrect += (predictions[1].argmax(1) == labels).type(\n",
    "\t\t\t\ttorch.float).sum().item()\n",
    "\n",
    "\t# calculate the average training and validation loss\n",
    "\tavgTrainLoss = totalTrainLoss / trainSteps\n",
    "\tavgValLoss = totalValLoss / valSteps\n",
    "\t# calculate the training and validation accuracy\n",
    "\ttrainCorrect = trainCorrect / len(trainDS)\n",
    "\tvalCorrect = valCorrect / len(testDS)\n",
    "\t# update our training history\n",
    "\tH[\"total_train_loss\"].append(avgTrainLoss.cpu().detach().numpy())\n",
    "\tH[\"train_class_acc\"].append(trainCorrect)\n",
    "\tH[\"total_val_loss\"].append(avgValLoss.cpu().detach().numpy())\n",
    "\tH[\"val_class_acc\"].append(valCorrect)\n",
    "\t# print the model training and validation information\n",
    "\tprint(\"[INFO] EPOCH: {}/{}\".format(e + 1, NUM_EPOCHS))\n",
    "\tprint(\"Train loss: {:.6f}, Train accuracy: {:.4f}\".format(\n",
    "\t\tavgTrainLoss, trainCorrect))\n",
    "\tprint(\"Val loss: {:.6f}, Val accuracy: {:.4f}\".format(\n",
    "\t\tavgValLoss, valCorrect))\n",
    "\t\t\t\n",
    "endTime = time.time()\n",
    "print(\"[INFO] total time taken to train the model: {:.2f}s\".format(\n",
    "\tendTime - startTime))"
   ]
  },
  {
   "cell_type": "code",
   "execution_count": 173,
   "metadata": {},
   "outputs": [
    {
     "name": "stdout",
     "output_type": "stream",
     "text": [
      "[INFO] saving object detector model...\n"
     ]
    }
   ],
   "source": [
    "# serialize the model to disk\n",
    "print(\"[INFO] saving object detector model...\")\n",
    "torch.save(objectDetector, MODEL_PATH)"
   ]
  },
  {
   "cell_type": "code",
   "execution_count": 174,
   "metadata": {},
   "outputs": [
    {
     "name": "stdout",
     "output_type": "stream",
     "text": [
      "[INFO] saving label encoder...\n"
     ]
    }
   ],
   "source": [
    "\n",
    "# serialize the label encoder to disk\n",
    "print(\"[INFO] saving label encoder...\")\n",
    "f = open(LE_PATH, \"wb\")\n",
    "f.write(pickle.dumps(le))\n",
    "f.close()"
   ]
  },
  {
   "cell_type": "code",
   "execution_count": 175,
   "metadata": {},
   "outputs": [
    {
     "data": {
      "image/png": "[encoded data removed]",
      "text/plain": [
       "<Figure size 640x480 with 1 Axes>"
      ]
     },
     "metadata": {},
     "output_type": "display_data"
    }
   ],
   "source": [
    "# plot the training loss and accuracy\n",
    "plt.style.use(\"ggplot\")\n",
    "plt.figure()\n",
    "plt.plot(H[\"total_train_loss\"], label=\"total_train_loss\")\n",
    "plt.plot(H[\"total_val_loss\"], label=\"total_val_loss\")\n",
    "plt.plot(H[\"train_class_acc\"], label=\"train_class_acc\")\n",
    "plt.plot(H[\"val_class_acc\"], label=\"val_class_acc\")\n",
    "plt.title(\"Total Training Loss and Classification Accuracy on Dataset\")\n",
    "plt.xlabel(\"Epoch #\")\n",
    "plt.ylabel(\"Loss/Accuracy\")\n",
    "plt.legend(loc=\"lower left\")\n",
    "# save the training plot\n",
    "plotPath = os.path.sep.join([PLOTS_PATH, \"training.png\"])\n",
    "plt.savefig(plotPath)"
   ]
  },
  {
   "cell_type": "code",
   "execution_count": null,
   "metadata": {},
   "outputs": [],
   "source": []
  }
 ],
 "metadata": {
  "kernelspec": {
   "display_name": "Python 3",
   "language": "python",
   "name": "python3"
  },
  "language_info": {
   "codemirror_mode": {
    "name": "ipython",
    "version": 3
   },
   "file_extension": ".py",
   "mimetype": "text/x-python",
   "name": "python",
   "nbconvert_exporter": "python",
   "pygments_lexer": "ipython3",
   "version": "3.10.6"
  },
  "orig_nbformat": 4
 },
 "nbformat": 4,
 "nbformat_minor": 2
}
